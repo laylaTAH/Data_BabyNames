{
 "cells": [
  {
   "cell_type": "code",
   "execution_count": 1,
   "id": "c9402426",
   "metadata": {},
   "outputs": [],
   "source": [
    "import pandas as pd\n",
    "import numpy as np\n",
    "import matplotlib.pyplot as plt"
   ]
  },
  {
   "cell_type": "code",
   "execution_count": 7,
   "id": "b6062dbf",
   "metadata": {},
   "outputs": [
    {
     "name": "stdout",
     "output_type": "stream",
     "text": [
      "sex\n",
      "F     90994\n",
      "M    110490\n",
      "Name: birth, dtype: int64\n"
     ]
    }
   ],
   "source": [
    "#step 2 \n",
    "births_by_sex = names1880.groupby('sex')['birth'].sum()\n",
    "print (births_by_sex)\n"
   ]
  },
  {
   "cell_type": "code",
   "execution_count": null,
   "id": "86ab8d55",
   "metadata": {},
   "outputs": [],
   "source": []
  }
 ],
 "metadata": {
  "kernelspec": {
   "display_name": "Python 3 (ipykernel)",
   "language": "python",
   "name": "python3"
  },
  "language_info": {
   "codemirror_mode": {
    "name": "ipython",
    "version": 3
   },
   "file_extension": ".py",
   "mimetype": "text/x-python",
   "name": "python",
   "nbconvert_exporter": "python",
   "pygments_lexer": "ipython3",
   "version": "3.11.3"
  }
 },
 "nbformat": 4,
 "nbformat_minor": 5
}
